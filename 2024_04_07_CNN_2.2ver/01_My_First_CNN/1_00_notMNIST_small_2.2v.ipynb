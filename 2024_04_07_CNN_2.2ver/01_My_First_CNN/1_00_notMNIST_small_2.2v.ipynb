{
 "cells": [
  {
   "cell_type": "markdown",
   "metadata": {
    "id": "CxdOtFwGD0S6"
   },
   "source": [
    "# Keras Upgrade"
   ]
  },
  {
   "cell_type": "code",
   "execution_count": 1,
   "metadata": {
    "id": "w4xxbLUhD0G9"
   },
   "outputs": [
    {
     "name": "stdout",
     "output_type": "stream",
     "text": [
      "Requirement already satisfied: keras in c:\\users\\user\\anaconda3\\lib\\site-packages (3.1.1)\n",
      "Requirement already satisfied: absl-py in c:\\users\\user\\anaconda3\\lib\\site-packages (from keras) (2.0.0)\n",
      "Requirement already satisfied: numpy in c:\\users\\user\\anaconda3\\lib\\site-packages (from keras) (1.26.4)\n",
      "Requirement already satisfied: rich in c:\\users\\user\\anaconda3\\lib\\site-packages (from keras) (13.7.1)\n",
      "Requirement already satisfied: namex in c:\\users\\user\\anaconda3\\lib\\site-packages (from keras) (0.0.7)\n",
      "Requirement already satisfied: h5py in c:\\users\\user\\anaconda3\\lib\\site-packages (from keras) (3.10.0)\n",
      "Requirement already satisfied: optree in c:\\users\\user\\anaconda3\\lib\\site-packages (from keras) (0.10.0)\n",
      "Requirement already satisfied: ml-dtypes in c:\\users\\user\\anaconda3\\lib\\site-packages (from keras) (0.2.0)\n",
      "Requirement already satisfied: typing-extensions>=4.0.0 in c:\\users\\user\\appdata\\roaming\\python\\python39\\site-packages (from optree->keras) (4.10.0)\n",
      "Requirement already satisfied: markdown-it-py>=2.2.0 in c:\\users\\user\\anaconda3\\lib\\site-packages (from rich->keras) (3.0.0)\n",
      "Requirement already satisfied: pygments<3.0.0,>=2.13.0 in c:\\users\\user\\appdata\\roaming\\python\\python39\\site-packages (from rich->keras) (2.15.1)\n",
      "Requirement already satisfied: mdurl~=0.1 in c:\\users\\user\\anaconda3\\lib\\site-packages (from markdown-it-py>=2.2.0->rich->keras) (0.1.2)\n"
     ]
    },
    {
     "name": "stderr",
     "output_type": "stream",
     "text": [
      "WARNING: Ignoring invalid distribution -rotobuf (c:\\users\\user\\anaconda3\\lib\\site-packages)\n",
      "WARNING: Ignoring invalid distribution -rotobuf (c:\\users\\user\\anaconda3\\lib\\site-packages)\n"
     ]
    }
   ],
   "source": [
    "!pip install --upgrade keras"
   ]
  },
  {
   "cell_type": "markdown",
   "metadata": {
    "id": "HdzfsORVCjZ2"
   },
   "source": [
    "# Letter recognition (small size)\n",
    "\n",
    "> Indeed, I once even proposed that the toughest challenge facing AI workers is to answer the question: “What are the letters ‘A’ and ‘I’? - [Douglas R. Hofstadter](https://web.stanford.edu/group/SHR/4-2/text/hofstadter.html) (1995)\n",
    "\n",
    "\n",
    "## notMNIST\n",
    "\n",
    "\n",
    "Data source: [notMNIST](http://yaroslavvb.blogspot.com/2011/09/notmnist-dataset.html) (you need to download `notMNIST_small.mat` file):\n",
    "\n",
    "![](http://yaroslavvb.com/upload/notMNIST/nmn.png)\n",
    "\n",
    "> some publicly available fonts and extracted glyphs from them to make a dataset similar to MNIST. There are 10 classes, with letters A-J taken from different fonts.\n",
    "\n",
    "> Approaching 0.5% error rate on notMNIST_small would be very impressive. If you run your algorithm on this dataset, please let me know your results.\n",
    "\n",
    "\n",
    "## So, why not MNIST?\n",
    "\n",
    "Many introductions to image classification with deep learning start with MNIST, a standard dataset of handwritten digits. This is unfortunate. Not only does it not produce a “Wow!” effect or show where deep learning shines, but it also can be solved with shallow machine learning techniques. In this case, plain k-Nearest Neighbors produces more than 97% accuracy (or even 99.5% with some data preprocessing!). Moreover, MNIST is not a typical image dataset – and mastering it is unlikely to teach you transferable skills that would be useful for other classification problems\n",
    "\n",
    "> Many good ideas will not work well on MNIST (e.g. batch norm). Inversely many bad ideas may work on MNIST and no[t] transfer to real [computer vision]. - [François Chollet’s tweet](https://twitter.com/fchollet/status/852594987527045120)"
   ]
  },
  {
   "cell_type": "code",
   "execution_count": 2,
   "metadata": {
    "id": "jcAAphar__K6"
   },
   "outputs": [
    {
     "name": "stderr",
     "output_type": "stream",
     "text": [
      "'wget'은(는) 내부 또는 외부 명령, 실행할 수 있는 프로그램, 또는\n",
      "배치 파일이 아닙니다.\n"
     ]
    }
   ],
   "source": [
    "!wget http://yaroslavvb.com/upload/notMNIST/notMNIST_small.mat"
   ]
  },
  {
   "cell_type": "code",
   "execution_count": 3,
   "metadata": {
    "id": "5bJ8z5dnANsf"
   },
   "outputs": [],
   "source": [
    "import numpy as np\n",
    "import matplotlib.pyplot as plt\n",
    "\n",
    "from scipy import io"
   ]
  },
  {
   "cell_type": "markdown",
   "metadata": {
    "id": "rsvxhuP0_mYt"
   },
   "source": [
    "## Data Loading"
   ]
  },
  {
   "cell_type": "code",
   "execution_count": 4,
   "metadata": {
    "id": "EGjiGlIJmt5Q"
   },
   "outputs": [
    {
     "ename": "FileNotFoundError",
     "evalue": "[Errno 2] No such file or directory: 'notMNIST_small.mat'",
     "output_type": "error",
     "traceback": [
      "\u001b[1;31m---------------------------------------------------------------------------\u001b[0m",
      "\u001b[1;31mFileNotFoundError\u001b[0m                         Traceback (most recent call last)",
      "File \u001b[1;32m~\\anaconda3\\lib\\site-packages\\scipy\\io\\matlab\\_mio.py:39\u001b[0m, in \u001b[0;36m_open_file\u001b[1;34m(file_like, appendmat, mode)\u001b[0m\n\u001b[0;32m     38\u001b[0m \u001b[38;5;28;01mtry\u001b[39;00m:\n\u001b[1;32m---> 39\u001b[0m     \u001b[38;5;28;01mreturn\u001b[39;00m \u001b[38;5;28;43mopen\u001b[39;49m\u001b[43m(\u001b[49m\u001b[43mfile_like\u001b[49m\u001b[43m,\u001b[49m\u001b[43m \u001b[49m\u001b[43mmode\u001b[49m\u001b[43m)\u001b[49m, \u001b[38;5;28;01mTrue\u001b[39;00m\n\u001b[0;32m     40\u001b[0m \u001b[38;5;28;01mexcept\u001b[39;00m \u001b[38;5;167;01mOSError\u001b[39;00m \u001b[38;5;28;01mas\u001b[39;00m e:\n\u001b[0;32m     41\u001b[0m     \u001b[38;5;66;03m# Probably \"not found\"\u001b[39;00m\n",
      "\u001b[1;31mFileNotFoundError\u001b[0m: [Errno 2] No such file or directory: 'notMNIST_small.mat'",
      "\nDuring handling of the above exception, another exception occurred:\n",
      "\u001b[1;31mFileNotFoundError\u001b[0m                         Traceback (most recent call last)",
      "Cell \u001b[1;32mIn[4], line 1\u001b[0m\n\u001b[1;32m----> 1\u001b[0m data \u001b[38;5;241m=\u001b[39m \u001b[43mio\u001b[49m\u001b[38;5;241;43m.\u001b[39;49m\u001b[43mloadmat\u001b[49m\u001b[43m(\u001b[49m\u001b[38;5;124;43m'\u001b[39;49m\u001b[38;5;124;43mnotMNIST_small.mat\u001b[39;49m\u001b[38;5;124;43m'\u001b[39;49m\u001b[43m)\u001b[49m\n\u001b[0;32m      3\u001b[0m data\n",
      "File \u001b[1;32m~\\anaconda3\\lib\\site-packages\\scipy\\io\\matlab\\_mio.py:225\u001b[0m, in \u001b[0;36mloadmat\u001b[1;34m(file_name, mdict, appendmat, **kwargs)\u001b[0m\n\u001b[0;32m     88\u001b[0m \u001b[38;5;250m\u001b[39m\u001b[38;5;124;03m\"\"\"\u001b[39;00m\n\u001b[0;32m     89\u001b[0m \u001b[38;5;124;03mLoad MATLAB file.\u001b[39;00m\n\u001b[0;32m     90\u001b[0m \n\u001b[1;32m   (...)\u001b[0m\n\u001b[0;32m    222\u001b[0m \u001b[38;5;124;03m    3.14159265+3.14159265j])\u001b[39;00m\n\u001b[0;32m    223\u001b[0m \u001b[38;5;124;03m\"\"\"\u001b[39;00m\n\u001b[0;32m    224\u001b[0m variable_names \u001b[38;5;241m=\u001b[39m kwargs\u001b[38;5;241m.\u001b[39mpop(\u001b[38;5;124m'\u001b[39m\u001b[38;5;124mvariable_names\u001b[39m\u001b[38;5;124m'\u001b[39m, \u001b[38;5;28;01mNone\u001b[39;00m)\n\u001b[1;32m--> 225\u001b[0m \u001b[38;5;28;01mwith\u001b[39;00m _open_file_context(file_name, appendmat) \u001b[38;5;28;01mas\u001b[39;00m f:\n\u001b[0;32m    226\u001b[0m     MR, _ \u001b[38;5;241m=\u001b[39m mat_reader_factory(f, \u001b[38;5;241m*\u001b[39m\u001b[38;5;241m*\u001b[39mkwargs)\n\u001b[0;32m    227\u001b[0m     matfile_dict \u001b[38;5;241m=\u001b[39m MR\u001b[38;5;241m.\u001b[39mget_variables(variable_names)\n",
      "File \u001b[1;32m~\\anaconda3\\lib\\contextlib.py:119\u001b[0m, in \u001b[0;36m_GeneratorContextManager.__enter__\u001b[1;34m(self)\u001b[0m\n\u001b[0;32m    117\u001b[0m \u001b[38;5;28;01mdel\u001b[39;00m \u001b[38;5;28mself\u001b[39m\u001b[38;5;241m.\u001b[39margs, \u001b[38;5;28mself\u001b[39m\u001b[38;5;241m.\u001b[39mkwds, \u001b[38;5;28mself\u001b[39m\u001b[38;5;241m.\u001b[39mfunc\n\u001b[0;32m    118\u001b[0m \u001b[38;5;28;01mtry\u001b[39;00m:\n\u001b[1;32m--> 119\u001b[0m     \u001b[38;5;28;01mreturn\u001b[39;00m \u001b[38;5;28;43mnext\u001b[39;49m\u001b[43m(\u001b[49m\u001b[38;5;28;43mself\u001b[39;49m\u001b[38;5;241;43m.\u001b[39;49m\u001b[43mgen\u001b[49m\u001b[43m)\u001b[49m\n\u001b[0;32m    120\u001b[0m \u001b[38;5;28;01mexcept\u001b[39;00m \u001b[38;5;167;01mStopIteration\u001b[39;00m:\n\u001b[0;32m    121\u001b[0m     \u001b[38;5;28;01mraise\u001b[39;00m \u001b[38;5;167;01mRuntimeError\u001b[39;00m(\u001b[38;5;124m\"\u001b[39m\u001b[38;5;124mgenerator didn\u001b[39m\u001b[38;5;124m'\u001b[39m\u001b[38;5;124mt yield\u001b[39m\u001b[38;5;124m\"\u001b[39m) \u001b[38;5;28;01mfrom\u001b[39;00m \u001b[38;5;28;01mNone\u001b[39;00m\n",
      "File \u001b[1;32m~\\anaconda3\\lib\\site-packages\\scipy\\io\\matlab\\_mio.py:17\u001b[0m, in \u001b[0;36m_open_file_context\u001b[1;34m(file_like, appendmat, mode)\u001b[0m\n\u001b[0;32m     15\u001b[0m \u001b[38;5;129m@contextmanager\u001b[39m\n\u001b[0;32m     16\u001b[0m \u001b[38;5;28;01mdef\u001b[39;00m \u001b[38;5;21m_open_file_context\u001b[39m(file_like, appendmat, mode\u001b[38;5;241m=\u001b[39m\u001b[38;5;124m'\u001b[39m\u001b[38;5;124mrb\u001b[39m\u001b[38;5;124m'\u001b[39m):\n\u001b[1;32m---> 17\u001b[0m     f, opened \u001b[38;5;241m=\u001b[39m \u001b[43m_open_file\u001b[49m\u001b[43m(\u001b[49m\u001b[43mfile_like\u001b[49m\u001b[43m,\u001b[49m\u001b[43m \u001b[49m\u001b[43mappendmat\u001b[49m\u001b[43m,\u001b[49m\u001b[43m \u001b[49m\u001b[43mmode\u001b[49m\u001b[43m)\u001b[49m\n\u001b[0;32m     18\u001b[0m     \u001b[38;5;28;01mtry\u001b[39;00m:\n\u001b[0;32m     19\u001b[0m         \u001b[38;5;28;01myield\u001b[39;00m f\n",
      "File \u001b[1;32m~\\anaconda3\\lib\\site-packages\\scipy\\io\\matlab\\_mio.py:45\u001b[0m, in \u001b[0;36m_open_file\u001b[1;34m(file_like, appendmat, mode)\u001b[0m\n\u001b[0;32m     43\u001b[0m     \u001b[38;5;28;01mif\u001b[39;00m appendmat \u001b[38;5;129;01mand\u001b[39;00m \u001b[38;5;129;01mnot\u001b[39;00m file_like\u001b[38;5;241m.\u001b[39mendswith(\u001b[38;5;124m'\u001b[39m\u001b[38;5;124m.mat\u001b[39m\u001b[38;5;124m'\u001b[39m):\n\u001b[0;32m     44\u001b[0m         file_like \u001b[38;5;241m+\u001b[39m\u001b[38;5;241m=\u001b[39m \u001b[38;5;124m'\u001b[39m\u001b[38;5;124m.mat\u001b[39m\u001b[38;5;124m'\u001b[39m\n\u001b[1;32m---> 45\u001b[0m     \u001b[38;5;28;01mreturn\u001b[39;00m \u001b[38;5;28;43mopen\u001b[39;49m\u001b[43m(\u001b[49m\u001b[43mfile_like\u001b[49m\u001b[43m,\u001b[49m\u001b[43m \u001b[49m\u001b[43mmode\u001b[49m\u001b[43m)\u001b[49m, \u001b[38;5;28;01mTrue\u001b[39;00m\n\u001b[0;32m     46\u001b[0m \u001b[38;5;28;01melse\u001b[39;00m:\n\u001b[0;32m     47\u001b[0m     \u001b[38;5;28;01mraise\u001b[39;00m \u001b[38;5;167;01mOSError\u001b[39;00m(\n\u001b[0;32m     48\u001b[0m         \u001b[38;5;124m'\u001b[39m\u001b[38;5;124mReader needs file name or open file-like object\u001b[39m\u001b[38;5;124m'\u001b[39m\n\u001b[0;32m     49\u001b[0m     ) \u001b[38;5;28;01mfrom\u001b[39;00m \u001b[38;5;21;01me\u001b[39;00m\n",
      "\u001b[1;31mFileNotFoundError\u001b[0m: [Errno 2] No such file or directory: 'notMNIST_small.mat'"
     ]
    }
   ],
   "source": [
    "data = io.loadmat('notMNIST_small.mat')\n",
    "\n",
    "data"
   ]
  },
  {
   "cell_type": "code",
   "execution_count": null,
   "metadata": {
    "id": "TeNorDxNm0kJ"
   },
   "outputs": [],
   "source": [
    "x = data['images']\n",
    "y = data['labels']"
   ]
  },
  {
   "cell_type": "code",
   "execution_count": null,
   "metadata": {
    "id": "ync3Gzrim3VI"
   },
   "outputs": [],
   "source": [
    "x.shape, y.shape"
   ]
  },
  {
   "cell_type": "code",
   "execution_count": null,
   "metadata": {
    "id": "NYB_hI-7m58Y"
   },
   "outputs": [],
   "source": [
    "resolution = 28\n",
    "classes = 10\n",
    "\n",
    "x = np.transpose(x, (2, 0, 1))\n",
    "print(x.shape)\n",
    "x = x.reshape( (-1, resolution, resolution, 1) )"
   ]
  },
  {
   "cell_type": "code",
   "execution_count": null,
   "metadata": {
    "id": "FPlIBhtrnUbZ"
   },
   "outputs": [],
   "source": [
    "# sample, x, y, channel\n",
    "x.shape, y.shape"
   ]
  },
  {
   "cell_type": "markdown",
   "metadata": {
    "id": "DGxezpUTnv4G"
   },
   "source": [
    "* 데이터 살펴보기"
   ]
  },
  {
   "cell_type": "code",
   "execution_count": null,
   "metadata": {
    "id": "QrHUkjstndza"
   },
   "outputs": [],
   "source": [
    "rand_i = np.random.randint(0, x.shape[0])\n",
    "\n",
    "plt.title( f'idx: {rand_i} , y: {\"ABCDEFGHIJ\"[ int(y[rand_i]) ]}' )\n",
    "plt.imshow( x[rand_i, :, :, 0], cmap='gray' )\n",
    "plt.show()"
   ]
  },
  {
   "cell_type": "code",
   "execution_count": null,
   "metadata": {
    "id": "7vYrb85CsSKV"
   },
   "outputs": [],
   "source": [
    "rows = 5\n",
    "fig, axes = plt.subplots(rows, classes, figsize=(classes,rows))\n",
    "\n",
    "for letter_id in range(classes) :\n",
    "    letters = x[y==letter_id]      # 0부터 9까지 각 숫자에 맞는 array가 letters에 들어간다.\n",
    "    letters_len = len(letters)\n",
    "\n",
    "    for row_i in range(rows) :\n",
    "        axe = axes[row_i, letter_id]\n",
    "        axe.imshow( letters[np.random.randint(letters_len)], cmap='gray', interpolation='none')\n",
    "        axe.axis('off')"
   ]
  },
  {
   "cell_type": "markdown",
   "metadata": {
    "id": "KG6mnMZkw3iz"
   },
   "source": [
    "## Data Preprocessing"
   ]
  },
  {
   "cell_type": "markdown",
   "metadata": {
    "id": "leN2EkZUv8um"
   },
   "source": [
    "* Data split\n",
    "\n",
    "    - training set : test set = 8 : 2\n",
    "    - 재현을 위한 난수 고정 : 2023"
   ]
  },
  {
   "cell_type": "code",
   "execution_count": null,
   "metadata": {
    "id": "tt2773nnAmVX"
   },
   "outputs": [],
   "source": [
    "x.shape, y.shape"
   ]
  },
  {
   "cell_type": "code",
   "execution_count": null,
   "metadata": {
    "id": "ojPT__eZeXSL"
   },
   "outputs": [],
   "source": [
    "from sklearn.model_selection import train_test_split"
   ]
  },
  {
   "cell_type": "code",
   "execution_count": null,
   "metadata": {
    "id": "4WLlSNTre1RQ"
   },
   "outputs": [],
   "source": [
    "train_x, test_x, train_y, test_y = train_test_split(x, y, test_size=0.2, random_state=2024)"
   ]
  },
  {
   "cell_type": "code",
   "execution_count": null,
   "metadata": {
    "id": "J9xJM_KqfOer"
   },
   "outputs": [],
   "source": [
    "train_x.shape, train_y.shape, test_x.shape, test_y.shape"
   ]
  },
  {
   "cell_type": "markdown",
   "metadata": {
    "id": "L6wdqmy9xglU"
   },
   "source": [
    "* Scaling\n",
    "\n",
    "    - min-max scaling"
   ]
  },
  {
   "cell_type": "code",
   "execution_count": null,
   "metadata": {
    "id": "mSBL0pKjAncL"
   },
   "outputs": [],
   "source": [
    "max_n, min_n = train_x.max(), train_x.min()"
   ]
  },
  {
   "cell_type": "code",
   "execution_count": null,
   "metadata": {
    "id": "f8S3m24HfpiM"
   },
   "outputs": [],
   "source": [
    "max_n, min_n"
   ]
  },
  {
   "cell_type": "code",
   "execution_count": null,
   "metadata": {
    "id": "M8FfA9NFfq9S"
   },
   "outputs": [],
   "source": [
    "train_x = (train_x - min_n) / (max_n - min_n)\n",
    "test_x = (test_x - min_n) / (max_n - min_n)"
   ]
  },
  {
   "cell_type": "code",
   "execution_count": null,
   "metadata": {
    "id": "YxylHoZwf-Ge"
   },
   "outputs": [],
   "source": [
    "train_x.max(), train_x.min()"
   ]
  },
  {
   "cell_type": "markdown",
   "metadata": {
    "id": "u7VEtyVIxgeW"
   },
   "source": [
    "* One-hot encoding"
   ]
  },
  {
   "cell_type": "code",
   "execution_count": null,
   "metadata": {
    "id": "H2VTNTCsAoSp"
   },
   "outputs": [],
   "source": [
    "from keras.utils import to_categorical"
   ]
  },
  {
   "cell_type": "code",
   "execution_count": null,
   "metadata": {
    "id": "ETJNjqUNggC5"
   },
   "outputs": [],
   "source": [
    "class_n = len(np.unique(train_y))"
   ]
  },
  {
   "cell_type": "code",
   "execution_count": null,
   "metadata": {
    "id": "TCcIeblugrxA"
   },
   "outputs": [],
   "source": [
    "train_y = to_categorical(train_y, class_n)\n",
    "test_y = to_categorical(test_y, class_n)"
   ]
  },
  {
   "cell_type": "markdown",
   "metadata": {
    "id": "X072_BHJzpcF"
   },
   "source": [
    "* Data shape 재확인"
   ]
  },
  {
   "cell_type": "code",
   "execution_count": null,
   "metadata": {
    "id": "h41qEPDYAoxj"
   },
   "outputs": [],
   "source": [
    "train_x.shape, train_y.shape"
   ]
  },
  {
   "cell_type": "markdown",
   "metadata": {
    "id": "zvuRbktZztOz"
   },
   "source": [
    "## Modeling\n",
    "- 조건\n",
    "    1. Sequential API, Functional API 중 택일\n",
    "    2. Flatten Layer 사용할 것\n",
    "    3. Activation Function이 주어진 Dense Layer 뒤에 BatchNormalization 사용할 것\n",
    "    4. Dropout을 0.2 정도로 사용할 것\n",
    "    5. Early Stopping을 사용할 것"
   ]
  },
  {
   "cell_type": "code",
   "execution_count": null,
   "metadata": {
    "id": "wtmkBigRkugs"
   },
   "outputs": [],
   "source": [
    "import keras"
   ]
  },
  {
   "cell_type": "code",
   "execution_count": null,
   "metadata": {
    "id": "DSRhen4FU0Mb"
   },
   "outputs": [],
   "source": [
    "keras.__version__"
   ]
  },
  {
   "cell_type": "code",
   "execution_count": null,
   "metadata": {
    "id": "tE75ckLz15_k"
   },
   "outputs": [],
   "source": [
    "## Functional API\n",
    "# 1. 세션 클리어 : 메모리에 기존 모델 구조가 남아있으면 정리해줘.\n",
    "keras.backend.clear_session()\n",
    "\n",
    "# 2. 레이어 사슬처럼 엮기\n",
    "il = keras.layers.Input(shape=(28,28,1) )\n",
    "hl = keras.layers.Flatten()(il)\n",
    "hl = keras.layers.Dense(256, activation='relu')(hl)\n",
    "hl = keras.layers.Dense(256, activation='relu')(hl)\n",
    "hl = keras.layers.BatchNormalization()(hl)\n",
    "hl = keras.layers.Dropout(0.2)(hl)\n",
    "\n",
    "hl = keras.layers.Dense(128, activation='relu')(hl)\n",
    "hl = keras.layers.Dense(128, activation='relu')(hl)\n",
    "hl = keras.layers.BatchNormalization()(hl)\n",
    "hl = keras.layers.Dropout(0.2)(hl)\n",
    "\n",
    "hl = keras.layers.Dense(64, activation='relu')(hl)\n",
    "hl = keras.layers.Dense(64, activation='relu')(hl)\n",
    "hl = keras.layers.BatchNormalization()(hl)\n",
    "hl = keras.layers.Dropout(0.2)(hl)\n",
    "\n",
    "ol = keras.layers.Dense(10, activation='softmax')(hl)\n",
    "\n",
    "# 3. 모델의 시작과 끝 지정\n",
    "model = keras.models.Model(il, ol)\n",
    "\n",
    "# 4. 컴파일\n",
    "model.compile(optimizer='adam',\n",
    "              loss=keras.losses.categorical_crossentropy,\n",
    "              metrics=['accuracy']\n",
    "              )\n",
    "\n",
    "# 양념\n",
    "model.summary()"
   ]
  },
  {
   "cell_type": "markdown",
   "metadata": {
    "id": "JLoTURuG3Ud1"
   },
   "source": [
    "* Early stopping"
   ]
  },
  {
   "cell_type": "code",
   "execution_count": null,
   "metadata": {
    "id": "4yFLLP9f3Xzl"
   },
   "outputs": [],
   "source": [
    "from keras.callbacks import EarlyStopping"
   ]
  },
  {
   "cell_type": "code",
   "execution_count": null,
   "metadata": {
    "id": "8S-oufHdm9Ut"
   },
   "outputs": [],
   "source": [
    "es = EarlyStopping(monitor='val_loss',       # 얼리스토핑을 적용할 관측 대상\n",
    "                   min_delta=0,              # Threshold. 설정한 값보다 크게 변해야 성능 개선 간주!\n",
    "                   patience=3,               # 성능 개선이 이뤄지지 않을 때 몇 번 더 지켜볼 것인가.\n",
    "                   verbose=1,                # 어느 epoch에서 얼리스토핑이 적용되었는지 보여줌\n",
    "                   restore_best_weights=True # 가장 성능이 좋은 시점의 epoch 가중치로 돌려줌!\n",
    "                   )"
   ]
  },
  {
   "cell_type": "markdown",
   "metadata": {
    "id": "zVbVljD627ws"
   },
   "source": [
    "* .fit( )"
   ]
  },
  {
   "cell_type": "code",
   "execution_count": null,
   "metadata": {
    "id": "Nafi5aiyA4lG"
   },
   "outputs": [],
   "source": [
    "model.fit(train_x, train_y,\n",
    "          epochs=10000, verbose=1,\n",
    "          validation_split=0.2,      # 매 epoch마다 랜덤하게 20%를 validation 데이터로 사용!\n",
    "          callbacks=[es]\n",
    "          )"
   ]
  },
  {
   "cell_type": "markdown",
   "metadata": {
    "id": "JC-yQqn33KqM"
   },
   "source": [
    "* .evaluate( )"
   ]
  },
  {
   "cell_type": "code",
   "execution_count": null,
   "metadata": {
    "id": "3MWxb6RXA4RW"
   },
   "outputs": [],
   "source": [
    "model.evaluate(test_x, test_y)"
   ]
  },
  {
   "cell_type": "markdown",
   "metadata": {
    "id": "R4iXxcP53BXn"
   },
   "source": [
    "* .predict( )"
   ]
  },
  {
   "cell_type": "code",
   "execution_count": null,
   "metadata": {
    "id": "21HlgXakA54I"
   },
   "outputs": [],
   "source": [
    "y_pred = model.predict(test_x)"
   ]
  },
  {
   "cell_type": "code",
   "execution_count": null,
   "metadata": {
    "id": "P5JU-aGjolqt"
   },
   "outputs": [],
   "source": [
    "y_pred[:2]"
   ]
  },
  {
   "cell_type": "code",
   "execution_count": null,
   "metadata": {
    "id": "V9RBL8C7o78b"
   },
   "outputs": [],
   "source": [
    "test_y.shape"
   ]
  },
  {
   "cell_type": "code",
   "execution_count": null,
   "metadata": {
    "id": "Zenpb5z1BMDn"
   },
   "outputs": [],
   "source": [
    "# 원핫 인코딩 한 것을 다시 묶어주는 코드\n",
    "# 평가 지표 및 실제 데이터 확인을 위해 필요\n",
    "\n",
    "y_pred_arg = np.argmax(y_pred, axis=1)\n",
    "test_y_arg = np.argmax(test_y, axis=1)"
   ]
  },
  {
   "cell_type": "code",
   "execution_count": null,
   "metadata": {
    "id": "ZAsEr1bGpA0E"
   },
   "outputs": [],
   "source": [
    "y_pred_arg.shape"
   ]
  },
  {
   "cell_type": "markdown",
   "metadata": {
    "id": "h0i7gtoKQI2M"
   },
   "source": [
    "* 평가 지표"
   ]
  },
  {
   "cell_type": "code",
   "execution_count": null,
   "metadata": {
    "id": "G6nFDdCaA7MT"
   },
   "outputs": [],
   "source": [
    "from sklearn.metrics import accuracy_score, classification_report"
   ]
  },
  {
   "cell_type": "code",
   "execution_count": null,
   "metadata": {
    "id": "bw2GrDPEpSXO"
   },
   "outputs": [],
   "source": [
    "accuracy_score(test_y_arg, y_pred_arg)"
   ]
  },
  {
   "cell_type": "code",
   "execution_count": null,
   "metadata": {
    "id": "WII3X25IpVpa"
   },
   "outputs": [],
   "source": [
    "classes = ['A','B','C','D','E','F','G','H','I','J']\n",
    "\n",
    "print( classification_report(test_y_arg, y_pred_arg, target_names=classes) )"
   ]
  },
  {
   "cell_type": "markdown",
   "metadata": {
    "id": "dX0PzsnZGdIh"
   },
   "source": [
    "## Visualization"
   ]
  },
  {
   "cell_type": "markdown",
   "metadata": {
    "id": "iAz06dlD7Gno"
   },
   "source": [
    "* 실제 데이터 확인"
   ]
  },
  {
   "cell_type": "code",
   "execution_count": null,
   "metadata": {
    "id": "rDzw-qDE7Eoc"
   },
   "outputs": [],
   "source": [
    "letters_str = \"ABCDEFGHIJ\"\n",
    "\n",
    "rand_idx = np.random.randint(0, len(y_pred_arg))\n",
    "test_idx = test_y_arg[rand_idx]\n",
    "pred_idx = y_pred_arg[rand_idx]\n",
    "class_prob = np.floor( y_pred[rand_idx]*100 )\n",
    "\n",
    "print(f'idx = {rand_idx}')\n",
    "print(f'해당 인덱스의 이미지는 {letters_str[test_idx]}')\n",
    "print(f'모델의 예측 : {letters_str[pred_idx]}')\n",
    "print(f'모델의 클래스별 확률 : ')\n",
    "print('-------------------')\n",
    "for idx, val in enumerate(letters_str) :\n",
    "    print(val, class_prob[idx])\n",
    "print('=================================================')\n",
    "\n",
    "if test_y_arg[rand_idx] == y_pred_arg[rand_idx] :\n",
    "    print('정답')\n",
    "else :\n",
    "    print('땡')\n",
    "\n",
    "plt.imshow(test_x[rand_idx], cmap='gray')\n",
    "plt.show()"
   ]
  },
  {
   "cell_type": "markdown",
   "metadata": {
    "id": "v7lHIf-B9Z_L"
   },
   "source": [
    "* 틀린 이미지만 확인해보기"
   ]
  },
  {
   "cell_type": "code",
   "execution_count": null,
   "metadata": {
    "id": "WnLoTiF0LZEU"
   },
   "outputs": [],
   "source": [
    "temp = (test_y_arg == y_pred_arg)\n",
    "false_idx = np.where(temp==False)[0]\n",
    "false_len = len(false_idx)\n",
    "false_len"
   ]
  },
  {
   "cell_type": "code",
   "execution_count": null,
   "metadata": {
    "id": "bWcCLIW2_ACh"
   },
   "outputs": [],
   "source": [
    "letters_str = \"ABCDEFGHIJ\"\n",
    "\n",
    "rand_idx = false_idx[np.random.randint(0, false_len)]\n",
    "test_idx = test_y_arg[rand_idx]\n",
    "pred_idx = y_pred_arg[rand_idx]\n",
    "class_prob = np.floor( y_pred[rand_idx]*100 )\n",
    "\n",
    "print(f'idx = {rand_idx}')\n",
    "print(f'해당 인덱스의 이미지는 {letters_str[test_idx]}')\n",
    "print(f'모델의 예측 : {letters_str[pred_idx]}')\n",
    "print(f'모델의 클래스별 확률 : ')\n",
    "print('-------------------')\n",
    "for idx, val in enumerate(letters_str) :\n",
    "    print(val, class_prob[idx])\n",
    "print('=================================================')\n",
    "\n",
    "if test_y_arg[rand_idx] == y_pred_arg[rand_idx] :\n",
    "    print('정답')\n",
    "else :\n",
    "    print('땡')\n",
    "\n",
    "plt.imshow(test_x[rand_idx], cmap='gray')\n",
    "plt.show()"
   ]
  }
 ],
 "metadata": {
  "colab": {
   "authorship_tag": "ABX9TyOoXSXSsqFAM2qZ83xW1um8",
   "provenance": []
  },
  "kernelspec": {
   "display_name": "Python 3 (ipykernel)",
   "language": "python",
   "name": "python3"
  },
  "language_info": {
   "codemirror_mode": {
    "name": "ipython",
    "version": 3
   },
   "file_extension": ".py",
   "mimetype": "text/x-python",
   "name": "python",
   "nbconvert_exporter": "python",
   "pygments_lexer": "ipython3",
   "version": "3.9.7"
  }
 },
 "nbformat": 4,
 "nbformat_minor": 4
}

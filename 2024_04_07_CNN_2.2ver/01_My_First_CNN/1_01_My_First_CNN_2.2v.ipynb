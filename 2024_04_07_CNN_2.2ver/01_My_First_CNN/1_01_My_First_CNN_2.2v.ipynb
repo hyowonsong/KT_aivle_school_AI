{
 "cells": [
  {
   "cell_type": "markdown",
   "metadata": {
    "id": "x8TZ1FxLB4xJ"
   },
   "source": [
    "# My First Convolutional Neural Network : MNIST\n",
    "---\n",
    "## 일단 Quick 하게\n",
    "\n",
    "코드는 정말 수루룩 끝난다!\n",
    "\n",
    "그래서 다시 한 번! 아래 그림을 보고 구조를 확실히 추적할 수 있어야 한다.\n",
    "\n",
    "* [Ex1](https://cdn-images-1.medium.com/max/1600/1*O9ulXVmjBustHGLi1zRthA.png)\n",
    "* [Ex2](https://cdn-images-1.medium.com/max/1600/1*jqKHgwZ8alM3K_JRYO_l4w.png)\n",
    "\n"
   ]
  },
  {
   "cell_type": "markdown",
   "metadata": {
    "id": "CxdOtFwGD0S6"
   },
   "source": [
    "### Keras Upgrade"
   ]
  },
  {
   "cell_type": "code",
   "execution_count": null,
   "metadata": {
    "id": "w4xxbLUhD0G9"
   },
   "outputs": [],
   "source": [
    "!pip install --upgrade keras"
   ]
  },
  {
   "cell_type": "markdown",
   "metadata": {
    "id": "CcKmYCVBFNSN"
   },
   "source": [
    "### 라이브러리 로딩"
   ]
  },
  {
   "cell_type": "code",
   "execution_count": null,
   "metadata": {
    "id": "wY-LJviYFP1w"
   },
   "outputs": [],
   "source": [
    "import numpy as np\n",
    "import pandas as pd\n",
    "import matplotlib.pyplot as plt\n",
    "\n",
    "import random as rd\n",
    "from sklearn.metrics import accuracy_score\n",
    "\n",
    "import keras"
   ]
  },
  {
   "cell_type": "code",
   "execution_count": null,
   "metadata": {
    "id": "N3TWkoiOFRlV"
   },
   "outputs": [],
   "source": [
    "(train_x, train_y), (test_x, test_y) = keras.datasets.mnist.load_data()"
   ]
  },
  {
   "cell_type": "code",
   "execution_count": null,
   "metadata": {
    "id": "8KNvSXY8FNWW"
   },
   "outputs": [],
   "source": [
    "print(train_x.shape, train_y.shape, test_x.shape, test_y.shape)"
   ]
  },
  {
   "cell_type": "code",
   "execution_count": null,
   "metadata": {
    "id": "BAd66i9TTRkG"
   },
   "outputs": [],
   "source": [
    "'''\n",
    "Ctrl+Enter를 이용하여\n",
    "반복 실행 해보자!\n",
    "'''\n",
    "\n",
    "id = rd.randrange(0, 10000)\n",
    "\n",
    "print(f'id = {id}')\n",
    "print(f'다음 그림은 숫자 {test_y[id]} 입니다.')\n",
    "plt.imshow(test_x[id], cmap='gray')\n",
    "plt.show()"
   ]
  },
  {
   "cell_type": "markdown",
   "metadata": {
    "id": "nxjV4ytsM0Rq"
   },
   "source": [
    "### Convolutional Layer를 사용하기 위한 reshape!\n",
    "\n",
    "- **채널이 추가되어야 한다**"
   ]
  },
  {
   "cell_type": "code",
   "execution_count": null,
   "metadata": {
    "id": "Yndo0Z3BaCVi"
   },
   "outputs": [],
   "source": [
    "train_x.shape, test_x.shape"
   ]
  },
  {
   "cell_type": "code",
   "execution_count": null,
   "metadata": {
    "id": "vEJrcLBMaQuj"
   },
   "outputs": [],
   "source": [
    "_, h, w = train_x.shape\n",
    "\n",
    "print(h, w)"
   ]
  },
  {
   "cell_type": "code",
   "execution_count": null,
   "metadata": {
    "id": "99f0aagKM5Zl"
   },
   "outputs": [],
   "source": [
    "train_x = train_x.reshape(train_x.shape[0], h, w, 1)\n",
    "test_x = test_x.reshape(test_x.shape[0], h, w, 1)\n",
    "\n",
    "print(train_x.shape, train_y.shape, test_x.shape, test_y.shape)"
   ]
  },
  {
   "cell_type": "markdown",
   "metadata": {
    "id": "viSln5pqGc0G"
   },
   "source": [
    "* 이미지가 0 ~ 1 사이 값을 갖도록 스케일 조정!"
   ]
  },
  {
   "cell_type": "code",
   "execution_count": null,
   "metadata": {
    "id": "wDay4MrZGkNl"
   },
   "outputs": [],
   "source": [
    "print(f'max : {train_x.max()} , min : {train_x.min()}')"
   ]
  },
  {
   "cell_type": "code",
   "execution_count": null,
   "metadata": {
    "id": "DPFeq7FvGkyI"
   },
   "outputs": [],
   "source": [
    "# max_num = train_x.max()\n",
    "\n",
    "# train_x = train_x/max_num\n",
    "# test_x = test_x/max_num"
   ]
  },
  {
   "cell_type": "code",
   "execution_count": null,
   "metadata": {
    "id": "mfSaJR1hdICA"
   },
   "outputs": [],
   "source": [
    "max_n, min_n = train_x.max(), train_x.min()"
   ]
  },
  {
   "cell_type": "code",
   "execution_count": null,
   "metadata": {
    "id": "4j8M7zb9dP7s"
   },
   "outputs": [],
   "source": [
    "train_x = (train_x - min_n) / (max_n - min_n)\n",
    "test_x = (test_x - min_n) / (max_n - min_n)"
   ]
  },
  {
   "cell_type": "code",
   "execution_count": null,
   "metadata": {
    "id": "e_lnNzI3QuC7"
   },
   "outputs": [],
   "source": [
    "print(f'max : {train_x.max()} , min : {train_x.min()}')"
   ]
  },
  {
   "cell_type": "markdown",
   "metadata": {
    "id": "i44CFcHQeBG7"
   },
   "source": [
    "* One-hot Encoding"
   ]
  },
  {
   "cell_type": "code",
   "execution_count": null,
   "metadata": {
    "id": "3pwRST1PeA2z"
   },
   "outputs": [],
   "source": [
    "from keras.utils import to_categorical"
   ]
  },
  {
   "cell_type": "code",
   "execution_count": null,
   "metadata": {
    "id": "inyYqbTNeI4F"
   },
   "outputs": [],
   "source": [
    "class_n = len(np.unique(train_y))\n",
    "class_n"
   ]
  },
  {
   "cell_type": "code",
   "execution_count": null,
   "metadata": {
    "id": "-j3Vq7HveFnE"
   },
   "outputs": [],
   "source": [
    "train_y = to_categorical(train_y, class_n)\n",
    "test_y = to_categorical(test_y, class_n)"
   ]
  },
  {
   "cell_type": "code",
   "execution_count": null,
   "metadata": {
    "id": "sy19oOkHeQ8m"
   },
   "outputs": [],
   "source": [
    "train_y.shape"
   ]
  },
  {
   "cell_type": "markdown",
   "metadata": {
    "id": "SzNYHB8aGmIy"
   },
   "source": [
    "## 모델링\n",
    "\n",
    "- Sequential API, Functional API 중 택일\n",
    "- CNN에 관한 것만 추가가 된다.\n",
    "[여기](https://keras.io/layers/convolutional/)를 적극적으로 참고하자."
   ]
  },
  {
   "cell_type": "code",
   "execution_count": null,
   "metadata": {
    "id": "VJuwHuHFd5Bq"
   },
   "outputs": [],
   "source": [
    "train_x.shape, train_y.shape"
   ]
  },
  {
   "cell_type": "code",
   "execution_count": null,
   "metadata": {
    "id": "v6wTdR5Hdf29"
   },
   "outputs": [],
   "source": [
    "from keras.backend import clear_session\n",
    "from keras.models import Model\n",
    "from keras.layers import Input, Dense, Flatten, Conv2D, MaxPool2D\n",
    "\n",
    "from keras.callbacks import EarlyStopping"
   ]
  },
  {
   "cell_type": "code",
   "execution_count": null,
   "metadata": {
    "id": "DD9iv2RHdf0H"
   },
   "outputs": [],
   "source": [
    "## Functional API\n",
    "# 1. 세션 클리어 : 메모리에 모델 구조가 남아있으면 지워줘.\n",
    "clear_session()\n",
    "\n",
    "# 2. 레이어 엮기 : 사슬처럼!\n",
    "il = Input(shape=(28,28,1) )\n",
    "\n",
    "hl = Conv2D(filters=128,       # 새롭게 제작하려는 feature map의 수!\n",
    "            kernel_size=(3,3), # Convolutional Filter의 가로세로 사이즈!\n",
    "            strides=(1,1),     # Convolutional Filter의 이동 보폭!\n",
    "            padding='same',    # 패딩 적용 유무!\n",
    "            activation='relu'  # 활성화 함수 반드시!\n",
    "            )(il)\n",
    "hl = Conv2D(filters=128,       # 새롭게 제작하려는 feature map의 수!\n",
    "            kernel_size=(3,3), # Convolutional Filter의 가로세로 사이즈!\n",
    "            strides=(1,1),     # Convolutional Filter의 이동 보폭!\n",
    "            padding='same',    # 패딩 적용 유무!\n",
    "            activation='relu'  # 활성화 함수 반드시!\n",
    "            )(hl)\n",
    "hl = MaxPool2D(pool_size=(2,2), # Pooling Filter의 가로세로 크기\n",
    "               strides=(2,2)    # Pooling Filter의 이동 보폭! (None은 기본적으로 pool_size를 따라감)\n",
    "               )(hl)\n",
    "\n",
    "hl = Conv2D(filters=64,       # 새롭게 제작하려는 feature map의 수!\n",
    "            kernel_size=(3,3), # Convolutional Filter의 가로세로 사이즈!\n",
    "            strides=(1,1),     # Convolutional Filter의 이동 보폭!\n",
    "            padding='same',    # 패딩 적용 유무!\n",
    "            activation='relu'  # 활성화 함수 반드시!\n",
    "            )(hl)\n",
    "hl = Conv2D(filters=64,       # 새롭게 제작하려는 feature map의 수!\n",
    "            kernel_size=(3,3), # Convolutional Filter의 가로세로 사이즈!\n",
    "            strides=(1,1),     # Convolutional Filter의 이동 보폭!\n",
    "            padding='same',    # 패딩 적용 유무!\n",
    "            activation='relu'  # 활성화 함수 반드시!\n",
    "            )(hl)\n",
    "hl = MaxPool2D(pool_size=(2,2), # Pooling Filter의 가로세로 크기\n",
    "               strides=(2,2)    # Pooling Filter의 이동 보폭! (None은 기본적으로 pool_size를 따라감)\n",
    "               )(hl)\n",
    "\n",
    "hl = Flatten()(hl)\n",
    "hl = Dense(128, activation='relu')(hl)\n",
    "ol = Dense(10, activation='softmax')(hl)\n",
    "\n",
    "# 3. 모델의 시작과 끝 지정\n",
    "model = Model(il, ol)\n",
    "\n",
    "# 4. 컴파일\n",
    "model.compile(optimizer='adam',\n",
    "              loss='categorical_crossentropy',\n",
    "              metrics=['accuracy']\n",
    "              )"
   ]
  },
  {
   "cell_type": "code",
   "execution_count": null,
   "metadata": {
    "id": "WqPJGmqydfxG"
   },
   "outputs": [],
   "source": [
    "model.summary()"
   ]
  },
  {
   "cell_type": "code",
   "execution_count": null,
   "metadata": {
    "id": "-712Eo56g9im"
   },
   "outputs": [],
   "source": [
    "es = EarlyStopping(monitor='val_loss',       # 얼리스토핑 적용할 관측 대상\n",
    "                   min_delta=0,              # Threshold. 설정한 값 이상으로 변화해야 개선되었다 간주.\n",
    "                   patience=3,               # 성능 개선이 발생하지 않을 때, 몇 Epochs 더 볼 것인지.\n",
    "                   verbose=1,\n",
    "                   restore_best_weights=True # 가장 성능이 좋게 나온 Epoch의 가중치로 되돌림\n",
    "                   )"
   ]
  },
  {
   "cell_type": "code",
   "execution_count": null,
   "metadata": {
    "id": "m_q-nJ3Kdft1"
   },
   "outputs": [],
   "source": [
    "hist = model.fit(train_x, train_y, epochs=5, verbose=1,\n",
    "                 validation_split=0.2, # 학습 데이터로부터 validation set을 생성!\n",
    "                 callbacks=[es]\n",
    "                 )"
   ]
  },
  {
   "cell_type": "code",
   "execution_count": null,
   "metadata": {
    "id": "FJMYuSnQPoqt"
   },
   "outputs": [],
   "source": [
    "performance_test = model.evaluate(test_x, test_y)\n",
    "\n",
    "print(f'Test Loss : {performance_test[0]:.6f} | Test Accuracy : {performance_test[1]*100:.2f}%')"
   ]
  },
  {
   "cell_type": "code",
   "execution_count": null,
   "metadata": {
    "id": "H5Ir4b-DQ3VG"
   },
   "outputs": [],
   "source": [
    "if not isinstance(hist, dict) :\n",
    "    history = hist.history\n",
    "\n",
    "plt.figure(figsize=(10, 5))\n",
    "plt.plot(history['accuracy'])\n",
    "plt.plot(history['val_accuracy'])\n",
    "plt.title('Accuracy : Training vs Validation')\n",
    "plt.ylabel('Accuracy')\n",
    "plt.xlabel('Epoch')\n",
    "plt.legend(['Training', 'Validation'], loc=0)\n",
    "plt.show()"
   ]
  },
  {
   "cell_type": "code",
   "execution_count": null,
   "metadata": {
    "id": "mfiGA-DvQ42n"
   },
   "outputs": [],
   "source": [
    "if not isinstance(hist, dict) :\n",
    "    history = hist.history\n",
    "\n",
    "plt.figure(figsize=(10, 5))\n",
    "plt.plot(history['loss'])\n",
    "plt.plot(history['val_loss'])\n",
    "plt.title('Loss : Training vs Validation')\n",
    "plt.ylabel('Loss')\n",
    "plt.xlabel('Epoch')\n",
    "plt.legend(['Training', 'Validation'], loc=0)\n",
    "plt.show()"
   ]
  },
  {
   "cell_type": "markdown",
   "metadata": {
    "id": "IwBEu_E8HFzv"
   },
   "source": [
    "* 예측값 생성"
   ]
  },
  {
   "cell_type": "code",
   "execution_count": null,
   "metadata": {
    "id": "ErRidyIDTAXd"
   },
   "outputs": [],
   "source": [
    "pred_train = model.predict(train_x)\n",
    "pred_test = model.predict(test_x)\n",
    "\n",
    "single_pred_train = pred_train.argmax(axis=1)\n",
    "single_pred_test = pred_test.argmax(axis=1)\n",
    "\n",
    "train_y_arg = train_y.argmax(axis=1)\n",
    "test_y_arg = test_y.argmax(axis=1)\n",
    "\n",
    "logi_train_accuracy = accuracy_score(train_y_arg, single_pred_train)\n",
    "logi_test_accuracy = accuracy_score(test_y_arg, single_pred_test)\n",
    "\n",
    "print('CNN')\n",
    "print(f'트레이닝 정확도 : {logi_train_accuracy*100:.2f}%' )\n",
    "print(f'테스트 정확도 : {logi_test_accuracy*100:.2f}%' )"
   ]
  },
  {
   "cell_type": "markdown",
   "metadata": {
    "id": "5Kgp7c72rsRw"
   },
   "source": [
    "## 숫자 이미지 시각화"
   ]
  },
  {
   "cell_type": "code",
   "execution_count": null,
   "metadata": {
    "id": "L3U38rGQTDx_"
   },
   "outputs": [],
   "source": [
    "'''\n",
    "성능 확인을 위해\n",
    "Ctrl+Enter를 이용하여\n",
    "반복 실행 해보자!\n",
    "'''\n",
    "\n",
    "id = rd.randrange(0,10000)\n",
    "\n",
    "print(f'id = {id}')\n",
    "print(f'다음 그림은 숫자 {test_y_arg[id]} 입니다.')\n",
    "print(f'모델의 예측 : {single_pred_test[id]}')\n",
    "print(f'모델의 카테고리별 확률 : {np.floor(pred_test[id]*100)}')\n",
    "\n",
    "if test_y_arg[id] == single_pred_test[id] :\n",
    "    print('정답입니다')\n",
    "else :\n",
    "    print('틀렸어요')\n",
    "\n",
    "plt.imshow(test_x[id].reshape([28,-1]), cmap='gray')\n",
    "plt.show()"
   ]
  },
  {
   "cell_type": "code",
   "execution_count": null,
   "metadata": {
    "id": "3RDJuEcbTAeg"
   },
   "outputs": [],
   "source": [
    "'''\n",
    "틀린 것만 관찰해보자!\n",
    "\n",
    "Ctrl+Enter를 이용하여\n",
    "반복 실행 해보자!\n",
    "'''\n",
    "\n",
    "true_false = (test_y_arg==single_pred_test)\n",
    "f_id = np.where(true_false==False)[0]\n",
    "f_n = len(f_id)\n",
    "\n",
    "id = f_id[rd.randrange(0,f_n)]\n",
    "\n",
    "print(f'id = {id}')\n",
    "print(f'다음 그림은 숫자 {test_y_arg[id]} 입니다.')\n",
    "print(f'모델의 예측 : {single_pred_test[id]}')\n",
    "print(f'모델의 카테고리별 확률 : {np.floor(pred_test[id]*100)}')\n",
    "\n",
    "if test_y_arg[id] == single_pred_test[id] :\n",
    "    print('정답입니다')\n",
    "else :\n",
    "    print('틀렸어요')\n",
    "\n",
    "plt.imshow(test_x[id].reshape([28,-1]), cmap='gray')\n",
    "plt.show()"
   ]
  }
 ],
 "metadata": {
  "accelerator": "GPU",
  "colab": {
   "provenance": [
    {
     "file_id": "1AsGEiyaA8e2OVY8UHMHPvBKDwx0Z-iuu",
     "timestamp": 1660284887835
    }
   ]
  },
  "gpuClass": "standard",
  "kernelspec": {
   "display_name": "Python 3 (ipykernel)",
   "language": "python",
   "name": "python3"
  },
  "language_info": {
   "codemirror_mode": {
    "name": "ipython",
    "version": 3
   },
   "file_extension": ".py",
   "mimetype": "text/x-python",
   "name": "python",
   "nbconvert_exporter": "python",
   "pygments_lexer": "ipython3",
   "version": "3.9.7"
  }
 },
 "nbformat": 4,
 "nbformat_minor": 4
}

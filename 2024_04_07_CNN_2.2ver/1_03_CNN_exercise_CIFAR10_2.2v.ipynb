{
 "cells": [
  {
   "cell_type": "markdown",
   "metadata": {
    "id": "HZc219MFFibh"
   },
   "source": [
    "# My First Convolutional Neural Network : CIFAR-10\n",
    "---\n",
    "#### 실습목표\n",
    "1. CNN의 기본 아이디어를 안다.\n",
    "2. CNN의 구조를 그리고, 코드로 옮길 수 있다."
   ]
  },
  {
   "cell_type": "markdown",
   "metadata": {
    "id": "CxdOtFwGD0S6"
   },
   "source": [
    "### Keras Upgrade"
   ]
  },
  {
   "cell_type": "code",
   "execution_count": null,
   "metadata": {
    "id": "w4xxbLUhD0G9"
   },
   "outputs": [],
   "source": [
    "!pip install --upgrade keras"
   ]
  },
  {
   "cell_type": "markdown",
   "metadata": {
    "id": "iLYle-HPFNgx"
   },
   "source": [
    "## Real Game : CNN on CIFAR-10\n",
    "\n",
    "여기에서는 여러분이 직접 코드를 완성해야 하는 문제가 곳곳에 있습니다!"
   ]
  },
  {
   "cell_type": "code",
   "execution_count": null,
   "metadata": {
    "id": "SpxQtfTUUI5r"
   },
   "outputs": [],
   "source": [
    "'''\n",
    "라이브러리들을 불러오자.\n",
    "'''\n",
    "import numpy as np\n",
    "import pandas as pd\n",
    "import matplotlib.pyplot as plt\n",
    "\n",
    "import random as rd\n",
    "from sklearn.metrics import accuracy_score\n",
    "\n",
    "import keras"
   ]
  },
  {
   "cell_type": "markdown",
   "metadata": {
    "id": "dxB_-9itUhFy"
   },
   "source": [
    "### Data Loading"
   ]
  },
  {
   "cell_type": "code",
   "execution_count": null,
   "metadata": {
    "id": "U0_XheJ32fnX"
   },
   "outputs": [],
   "source": [
    "(train_x, train_y), (test_x, test_y) = keras.datasets.cifar10.load_data()"
   ]
  },
  {
   "cell_type": "code",
   "execution_count": null,
   "metadata": {
    "id": "0EcfUETOUhIy"
   },
   "outputs": [],
   "source": [
    "print(train_x.shape, train_y.shape, test_x.shape, test_y.shape)"
   ]
  },
  {
   "cell_type": "code",
   "execution_count": null,
   "metadata": {
    "id": "D7-ICNlAVhIM"
   },
   "outputs": [],
   "source": [
    "labels = {0 : 'Airplane',\n",
    "          1 : 'Automobile',\n",
    "          2 : 'Bird',\n",
    "          3 : 'Cat',\n",
    "          4 : 'Deer',\n",
    "          5 : 'Dog',\n",
    "          6 : 'Frog',\n",
    "          7 : 'Horse',\n",
    "          8 : 'Ship',\n",
    "          9 : 'Truck' }\n",
    "\n",
    "print(labels)"
   ]
  },
  {
   "cell_type": "code",
   "execution_count": null,
   "metadata": {
    "id": "06UwAC3JV7uj"
   },
   "outputs": [],
   "source": [
    "'''\n",
    "Ctrl+Enter를 이용하여\n",
    "반복 실행 해보자!\n",
    "'''\n",
    "\n",
    "id = rd.randrange(0,10000)\n",
    "\n",
    "print(f'id = {id}')\n",
    "print(f'다음 그림은 {labels[test_y[id][0]]} 입니다.')\n",
    "plt.imshow(test_x[id])\n",
    "plt.show()"
   ]
  },
  {
   "cell_type": "markdown",
   "metadata": {
    "id": "ghiwVWATe4I8"
   },
   "source": [
    "### X : 표준화 Scaling (standardization)\n",
    "\n",
    "$$ X_{scaled} = {{x_{original} - mean(x)}\\over{std(x)} } $$"
   ]
  },
  {
   "cell_type": "markdown",
   "metadata": {
    "id": "kY1J5215K1cm"
   },
   "source": [
    "* Choose 1. 한꺼번에 Standardization 적용"
   ]
  },
  {
   "cell_type": "code",
   "execution_count": null,
   "metadata": {
    "id": "yZcODXcUfHVj"
   },
   "outputs": [],
   "source": [
    "mean_n = train_x.mean()\n",
    "std_n = train_x.std()\n",
    "\n",
    "mean_n, std_n"
   ]
  },
  {
   "cell_type": "code",
   "execution_count": null,
   "metadata": {
    "id": "hqG3Bgb3qyJh"
   },
   "outputs": [],
   "source": [
    "train_x = (train_x-mean_n)/(std_n)\n",
    "test_x = (test_x-mean_n)/(std_n)"
   ]
  },
  {
   "cell_type": "code",
   "execution_count": null,
   "metadata": {
    "id": "eA13_0DZed5K"
   },
   "outputs": [],
   "source": [
    "train_x.mean(), train_x.std()"
   ]
  },
  {
   "cell_type": "markdown",
   "metadata": {
    "id": "DO7Sl-_FzhdE"
   },
   "source": [
    "* Choose 2. 채널별로 Standardization 적용"
   ]
  },
  {
   "cell_type": "code",
   "execution_count": null,
   "metadata": {
    "id": "WfLGSU3_EbuP"
   },
   "outputs": [],
   "source": [
    "tr_r_mean, tr_r_std = train_x[:,:,:,0].mean(), train_x[:,:,:,0].std()\n",
    "tr_g_mean, tr_g_std = train_x[:,:,:,1].mean(), train_x[:,:,:,1].std()\n",
    "tr_b_mean, tr_b_std = train_x[:,:,:,2].mean(), train_x[:,:,:,2].std()"
   ]
  },
  {
   "cell_type": "code",
   "execution_count": null,
   "metadata": {
    "id": "2kUcuVvmBPre"
   },
   "outputs": [],
   "source": [
    "train_x_r = (train_x[:,:,:,0] - tr_r_mean) / tr_r_std\n",
    "train_x_g = (train_x[:,:,:,1] - tr_g_mean) / tr_g_std\n",
    "train_x_b = (train_x[:,:,:,2] - tr_b_mean) / tr_b_std"
   ]
  },
  {
   "cell_type": "code",
   "execution_count": null,
   "metadata": {
    "id": "5lz0nL6SDrBo"
   },
   "outputs": [],
   "source": [
    "train_x_ss = np.stack((train_x_r, train_x_g, train_x_b), axis=3)"
   ]
  },
  {
   "cell_type": "code",
   "execution_count": null,
   "metadata": {
    "id": "1s7BMs-OFMNM"
   },
   "outputs": [],
   "source": [
    "test_x_r = (test_x[:,:,:,0] - tr_r_mean) / tr_r_std\n",
    "test_x_g = (test_x[:,:,:,1] - tr_g_mean) / tr_g_std\n",
    "test_x_b = (test_x[:,:,:,2] - tr_b_mean) / tr_b_std"
   ]
  },
  {
   "cell_type": "code",
   "execution_count": null,
   "metadata": {
    "id": "iJripbe2FUuz"
   },
   "outputs": [],
   "source": [
    "test_x_ss = np.stack((test_x_r, test_x_g, test_x_b), axis=3)"
   ]
  },
  {
   "cell_type": "markdown",
   "metadata": {
    "id": "SyVgGB6lfCuj"
   },
   "source": [
    "### Y : One-Hot Encoding"
   ]
  },
  {
   "cell_type": "code",
   "execution_count": null,
   "metadata": {
    "id": "wXjd36hcfE9-"
   },
   "outputs": [],
   "source": [
    "train_y.shape, test_y.shape"
   ]
  },
  {
   "cell_type": "code",
   "execution_count": null,
   "metadata": {
    "id": "fve3IJPihy0x"
   },
   "outputs": [],
   "source": [
    "class_n = len(labels)\n",
    "class_n"
   ]
  },
  {
   "cell_type": "code",
   "execution_count": null,
   "metadata": {
    "id": "IRpIkJCDQWz-"
   },
   "outputs": [],
   "source": [
    "from keras.utils import to_categorical"
   ]
  },
  {
   "cell_type": "code",
   "execution_count": null,
   "metadata": {
    "id": "ulY3Ka3L4hoO"
   },
   "outputs": [],
   "source": [
    "train_y = to_categorical(train_y, class_n)\n",
    "test_y = to_categorical(test_y, class_n)"
   ]
  },
  {
   "cell_type": "code",
   "execution_count": null,
   "metadata": {
    "id": "oulPEQdwLW6F"
   },
   "outputs": [],
   "source": [
    "train_x_ss.shape, train_y.shape"
   ]
  },
  {
   "cell_type": "markdown",
   "metadata": {
    "id": "mQ_FTTj7XAtC"
   },
   "source": [
    "### 코드를 완성해주세요!\n",
    "\n",
    "- 조건\n",
    "    - **model.fit( ) 을 history 에 담아서 학습 과정의 로그를 남길 것.**\n",
    "    - EarlyStopping 의 옵션도 조절해보자.\n",
    "---\n",
    "\n",
    "- **자유롭게 먼저 해보는 것을 추천**\n",
    "\n",
    "---\n",
    "\n",
    "- **구조를 따라서 코딩을 한다면**\n",
    "    0. Functional, Sequential 중 택일\n",
    "    1. 인풋레이어\n",
    "    2. Convolution : 필터수 32개, 사이즈(3, 3), same padding\n",
    "    3. Convolution : 필터수 32개, 사이즈(3, 3), same padding\n",
    "    4. BatchNormalization\n",
    "    5. MaxPooling : 사이즈(2,2) 스트라이드(2,2)\n",
    "    6. DropOut : 25% 비활성화\n",
    "    7. Convolution : 필터수 64개, 사이즈(3, 3), same padding\n",
    "    8. Convolution : 필터수 64개, 사이즈(3, 3), same padding\n",
    "    9. BatchNormalization\n",
    "    10. MaxPooling : 사이즈(2,2) 스트라이드(2,2)\n",
    "    11. DropOut : 25% 비활성화\n",
    "    12. Flatten( )\n",
    "    13. Fully Connected Layer : 노드 1024개\n",
    "    14. BatchNormalization\n",
    "    15. DropOut : 35% 비활성화\n",
    "    16. 아웃풋레이어\n",
    "\n"
   ]
  },
  {
   "cell_type": "code",
   "execution_count": null,
   "metadata": {
    "id": "CBr9O24_JGPT"
   },
   "outputs": [],
   "source": [
    "import keras"
   ]
  },
  {
   "cell_type": "markdown",
   "metadata": {
    "id": "D_8FqwKe5N_B"
   },
   "source": [
    "#### Sequential API"
   ]
  },
  {
   "cell_type": "code",
   "execution_count": null,
   "metadata": {
    "id": "Fvf7a119n53E"
   },
   "outputs": [],
   "source": [
    "keras.backend.clear_session()\n",
    "\n",
    "model = keras.models.Sequential()\n",
    "\n",
    "# 인풋레이어\n",
    "model.add( keras.layers.Input(shape=(32,32,3)) )\n",
    "\n",
    "# Convolution : 필터수 32개, 사이즈(3, 3), same padding\n",
    "model.add( keras.layers.Conv2D(32, (3,3), padding='same', activation='relu') )\n",
    "\n",
    "# Convolution : 필터수 32개, 사이즈(3, 3), same padding\n",
    "model.add( keras.layers.Conv2D(32, (3,3), padding='same', activation='relu') )\n",
    "\n",
    "# BatchNormalization\n",
    "model.add( keras.layers.BatchNormalization() )\n",
    "\n",
    "# MaxPooling : 사이즈(2,2) 스트라이드(2,2)\n",
    "model.add( keras.layers.MaxPool2D((2,2)) )\n",
    "\n",
    "# DropOut : 25% 비활성화\n",
    "model.add( keras.layers.Dropout(0.25) )\n",
    "\n",
    "# Convolution : 필터수 64개, 사이즈(3, 3), same padding\n",
    "model.add( keras.layers.Conv2D(64, (3,3), padding='same', activation='relu') )\n",
    "\n",
    "# Convolution : 필터수 64개, 사이즈(3, 3), same padding\n",
    "model.add( keras.layers.Conv2D(64, (3,3), padding='same', activation='relu') )\n",
    "\n",
    "# BatchNormalization\n",
    "model.add( keras.layers.BatchNormalization() )\n",
    "\n",
    "# MaxPooling : 사이즈(2,2) 스트라이드(2,2)\n",
    "model.add( keras.layers.MaxPool2D((2,2)) )\n",
    "\n",
    "# DropOut : 25% 비활성화\n",
    "model.add( keras.layers.Dropout(0.25) )\n",
    "\n",
    "# Flatten()\n",
    "model.add( keras.layers.Flatten() )\n",
    "\n",
    "# Fully Connected Layer : 노드 1024개\n",
    "model.add( keras.layers.Dense(1024, activation='relu') )\n",
    "\n",
    "# BatchNormalization\n",
    "model.add( keras.layers.BatchNormalization() )\n",
    "\n",
    "# DropOut : 35% 비활성화\n",
    "model.add( keras.layers.Dropout(0.35) )\n",
    "\n",
    "# 아웃풋레이어\n",
    "model.add( keras.layers.Dense(10, activation='softmax') )\n",
    "\n",
    "\n",
    "# 컴파일\n",
    "model.compile(loss=keras.losses.categorical_crossentropy, metrics=['accuracy'],\n",
    "              optimizer='adam')\n",
    "\n",
    "#\n",
    "model.summary()"
   ]
  },
  {
   "cell_type": "markdown",
   "metadata": {
    "id": "kPO6rNQu5P4E"
   },
   "source": [
    "#### Functional API"
   ]
  },
  {
   "cell_type": "code",
   "execution_count": null,
   "metadata": {
    "id": "hEgnAtaMiAxh"
   },
   "outputs": [],
   "source": [
    "keras.backend.clear_session()\n",
    "\n",
    "# 인풋레이어\n",
    "il = keras.layers.Input(shape=(32,32,3))\n",
    "\n",
    "# Convolution : 필터수 32개, 사이즈(3, 3), same padding\n",
    "cl = keras.layers.Conv2D(32, (3,3), padding='same', activation='relu' )(il)\n",
    "\n",
    "# Convolution : 필터수 32개, 사이즈(3, 3), same padding\n",
    "cl = keras.layers.Conv2D(32, (3,3), padding='same', activation='relu')(cl)\n",
    "\n",
    "# BatchNormalization\n",
    "bl = keras.layers.BatchNormalization()(cl)\n",
    "\n",
    "# MaxPooling : 사이즈(2,2) 스트라이드(2,2)\n",
    "ml = keras.layers.MaxPool2D((2,2))(bl)\n",
    "\n",
    "# DropOut : 25% 비활성화\n",
    "dl = keras.layers.Dropout(0.25)(ml)\n",
    "\n",
    "# Convolution : 필터수 64개, 사이즈(3, 3), same padding\n",
    "cl = keras.layers.Conv2D(64, (3,3), padding='same', activation='relu')(dl)\n",
    "\n",
    "# Convolution : 필터수 64개, 사이즈(3, 3), same padding\n",
    "cl = keras.layers.Conv2D(64, (3,3), padding='same', activation='relu')(cl)\n",
    "\n",
    "# BatchNormalization\n",
    "bl = keras.layers.BatchNormalization()(cl)\n",
    "\n",
    "# MaxPooling : 사이즈(2,2) 스트라이드(2,2)\n",
    "ml = keras.layers.MaxPool2D((2,2))(bl)\n",
    "\n",
    "# DropOut : 25% 비활성화\n",
    "dl = keras.layers.Dropout(0.25)(ml)\n",
    "\n",
    "# Flatten()\n",
    "fl = keras.layers.Flatten()(dl)\n",
    "\n",
    "# Fully Connected Layer : 노드 1024개\n",
    "dl = keras.layers.Dense(1024, activation='relu')(fl)\n",
    "\n",
    "# BatchNormalization\n",
    "bl = keras.layers.BatchNormalization()(dl)\n",
    "\n",
    "# DropOut : 35% 비활성화\n",
    "dl = keras.layers.Dropout(0.35)(bl)\n",
    "\n",
    "# 아웃풋레이어\n",
    "ol = keras.layers.Dense(10, activation='softmax')(dl)\n",
    "\n",
    "model = keras.models.Model(il, ol)\n",
    "\n",
    "# 컴파일\n",
    "model.compile(loss=keras.losses.categorical_crossentropy, metrics=['accuracy'],\n",
    "              optimizer='adam')\n",
    "\n",
    "model.summary()"
   ]
  },
  {
   "cell_type": "markdown",
   "metadata": {
    "id": "hxtqqvbSXfoO"
   },
   "source": [
    "#### 모델 학습"
   ]
  },
  {
   "cell_type": "code",
   "execution_count": null,
   "metadata": {
    "id": "TbhkWz-xrJT6"
   },
   "outputs": [],
   "source": [
    "from keras.callbacks import EarlyStopping\n",
    "from keras.utils import plot_model"
   ]
  },
  {
   "cell_type": "code",
   "execution_count": null,
   "metadata": {
    "id": "7mncov0hr2mP"
   },
   "outputs": [],
   "source": [
    "plot_model(model, show_shapes=True)"
   ]
  },
  {
   "cell_type": "code",
   "execution_count": null,
   "metadata": {
    "id": "x1y8MtQ3rJCm"
   },
   "outputs": [],
   "source": [
    "es = EarlyStopping(monitor='val_loss',\n",
    "                   min_delta=0,\n",
    "                   patience=5,\n",
    "                   verbose=1,\n",
    "                   restore_best_weights=True)"
   ]
  },
  {
   "cell_type": "code",
   "execution_count": null,
   "metadata": {
    "id": "4UgbNZMF5fA-"
   },
   "outputs": [],
   "source": [
    "history = model.fit(train_x, train_y,\n",
    "                    epochs=10000,\n",
    "                    verbose=1,\n",
    "                    validation_split=0.2,\n",
    "                    callbacks=[es])"
   ]
  },
  {
   "cell_type": "markdown",
   "metadata": {
    "id": "aveNny0jl90K"
   },
   "source": [
    "### 성능 평가"
   ]
  },
  {
   "cell_type": "code",
   "execution_count": null,
   "metadata": {
    "id": "HEFalxVhJrvu"
   },
   "outputs": [],
   "source": [
    "performance_test = model.evaluate(test_x, test_y)\n",
    "\n",
    "print( f'Test Loss : {performance_test[0]:.6f}, Test Accuracy : {performance_test[1]*100:.3f}%' )"
   ]
  },
  {
   "cell_type": "code",
   "execution_count": null,
   "metadata": {
    "id": "E3pexEleJryC"
   },
   "outputs": [],
   "source": [
    "if not isinstance(history, dict):\n",
    "    history = history.history\n",
    "\n",
    "plt.plot(history['accuracy'])\n",
    "plt.plot(history['val_accuracy'])\n",
    "plt.title('Accuracy : Training vs Validation')\n",
    "plt.ylabel('Accuracy')\n",
    "plt.xlabel('Epoch')\n",
    "plt.legend(['Training', 'Validation'], loc=0)\n",
    "plt.show()"
   ]
  },
  {
   "cell_type": "code",
   "execution_count": null,
   "metadata": {
    "id": "btFU0ZYtNkvf"
   },
   "outputs": [],
   "source": [
    "if not isinstance(history, dict):\n",
    "    history = history.history\n",
    "\n",
    "plt.plot(history['loss'])\n",
    "plt.plot(history['val_loss'])\n",
    "plt.title('Loss : Training vs Validation')\n",
    "plt.ylabel('Loss')\n",
    "plt.xlabel('Epoch')\n",
    "plt.legend(['Training', 'Validation'], loc=0)\n",
    "plt.show()"
   ]
  },
  {
   "cell_type": "code",
   "execution_count": null,
   "metadata": {
    "id": "cqiymLX7Jr0a"
   },
   "outputs": [],
   "source": [
    "# 원핫 인코딩 해제\n",
    "train_y = train_y.argmax(axis=1)\n",
    "test_y = test_y.argmax(axis=1)"
   ]
  },
  {
   "cell_type": "code",
   "execution_count": null,
   "metadata": {
    "id": "qc3Ap5q_bNgN"
   },
   "outputs": [],
   "source": [
    "pred_train = model.predict(train_x)\n",
    "pred_test = model.predict(test_x)\n",
    "\n",
    "single_pred_train = pred_train.argmax(axis=1)\n",
    "single_pred_test = pred_test.argmax(axis=1)\n",
    "\n",
    "logi_train_accuracy = accuracy_score(train_y, single_pred_train)\n",
    "logi_test_accuracy = accuracy_score(test_y, single_pred_test)\n",
    "\n",
    "print('CNN')\n",
    "print(f'트레이닝 정확도 : {logi_train_accuracy*100:.2f}%')\n",
    "print(f'테스트 정확도 : {logi_test_accuracy*100:.2f}%')"
   ]
  },
  {
   "cell_type": "code",
   "execution_count": null,
   "metadata": {
    "id": "4D5LN9iNR3aW"
   },
   "outputs": [],
   "source": [
    "'''\n",
    "성능 확인을 위해\n",
    "Ctrl+Enter를 이용하여\n",
    "반복 실행 해보자!\n",
    "'''\n",
    "\n",
    "id = rd.randrange(0,10000)\n",
    "\n",
    "print(f'id = {id}')\n",
    "print(f'다음 그림은 {labels[test_y[id]]} 입니다.')\n",
    "print(f'모델의 예측 : {labels[single_pred_test[id]]}')\n",
    "\n",
    "prob = np.floor(pred_test[id]*100).tolist()\n",
    "prob_dict = {}\n",
    "\n",
    "for idx, prob in enumerate(prob) :\n",
    "    prob_dict[ labels[idx] ] = prob\n",
    "\n",
    "print('모델의 카테고리별 확률 : ')\n",
    "print(prob_dict)\n",
    "\n",
    "if test_y[id] == single_pred_test[id] :\n",
    "    print('정답입니다')\n",
    "else :\n",
    "    print('틀렸어요')\n",
    "\n",
    "plt.imshow(test_x[id].reshape([32,32,-1]))\n",
    "plt.show()"
   ]
  },
  {
   "cell_type": "code",
   "execution_count": null,
   "metadata": {
    "id": "XDm-YCj7VzIB"
   },
   "outputs": [],
   "source": [
    "'''\n",
    "틀린 것만 관찰해보자!\n",
    "\n",
    "Ctrl+Enter를 이용하여\n",
    "반복 실행 해보자!\n",
    "'''\n",
    "\n",
    "true_false = (test_y == single_pred_test)\n",
    "f_id = np.where(true_false == False)[0]\n",
    "f_n = len(f_id)\n",
    "\n",
    "id = f_id[rd.randrange(0,f_n)]\n",
    "\n",
    "\n",
    "print(f'id = {id}')\n",
    "print(f'다음 그림은 {labels[test_y[id]]} 입니다.')\n",
    "print(f'모델의 예측 : {labels[single_pred_test[id]]}')\n",
    "\n",
    "prob = np.floor(pred_test[id]*100).tolist()\n",
    "prob_dict = {}\n",
    "\n",
    "for idx, prob in enumerate(prob) :\n",
    "    prob_dict[ labels[idx] ] = prob\n",
    "\n",
    "print('모델의 카테고리별 확률 : ')\n",
    "print(prob_dict)\n",
    "\n",
    "if test_y[id] == single_pred_test[id] :\n",
    "    print('정답입니다')\n",
    "else :\n",
    "    print('틀렸어요')\n",
    "\n",
    "plt.imshow(test_x[id].reshape([32,32,-1]))\n",
    "plt.show()"
   ]
  },
  {
   "cell_type": "code",
   "execution_count": null,
   "metadata": {
    "id": "kop1T2j5cgbM"
   },
   "outputs": [],
   "source": []
  }
 ],
 "metadata": {
  "accelerator": "GPU",
  "colab": {
   "provenance": []
  },
  "gpuClass": "standard",
  "kernelspec": {
   "display_name": "Python 3 (ipykernel)",
   "language": "python",
   "name": "python3"
  },
  "language_info": {
   "codemirror_mode": {
    "name": "ipython",
    "version": 3
   },
   "file_extension": ".py",
   "mimetype": "text/x-python",
   "name": "python",
   "nbconvert_exporter": "python",
   "pygments_lexer": "ipython3",
   "version": "3.9.7"
  }
 },
 "nbformat": 4,
 "nbformat_minor": 4
}
